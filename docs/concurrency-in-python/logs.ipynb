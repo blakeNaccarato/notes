{
 "cells": [
  {
   "cell_type": "markdown",
   "metadata": {},
   "source": [
    "# Logs\n"
   ]
  },
  {
   "cell_type": "code",
   "execution_count": null,
   "metadata": {
    "tags": []
   },
   "outputs": [],
   "source": [
    "from pathlib import Path\n",
    "from sys import stdout\n",
    "\n",
    "from loguru import logger\n",
    "\n",
    "logger.remove()\n",
    "logger.add(sink=stdout, format=(\"{message}\"))\n",
    "logger = logger.opt(colors=True)\n",
    "path = Path(\"docs/concurrency-in-python\")"
   ]
  },
  {
   "cell_type": "markdown",
   "metadata": {},
   "source": [
    "## Before"
   ]
  },
  {
   "cell_type": "code",
   "execution_count": null,
   "metadata": {},
   "outputs": [
    {
     "name": "stdout",
     "output_type": "stream",
     "text": [
      "\u001b[32m2023-07-23 16:58:01\u001b[0m | \u001b[33mSTART\u001b[0m pre_repro\n",
      "\u001b[32m2023-07-23 16:58:01\u001b[0m | \u001b[33mSTART\u001b[0m CLEAN\n",
      "\u001b[32m2023-07-23 16:58:01\u001b[0m |     \u001b[33mStart \u001b[0m \u001b[33mnbqa\u001b[0m proposed_plot.ipynb\n",
      "\u001b[32m2023-07-23 16:58:01\u001b[0m |     \u001b[33mStart \u001b[0m \u001b[33mnbqa\u001b[0m 23-07-11T12_single_bubble.ipynb\n",
      "\u001b[32m2023-07-23 16:58:01\u001b[0m |     \u001b[33mStart \u001b[0m \u001b[33mnbqa\u001b[0m 23-07-11T15_multi_bubble.ipynb\n",
      "\u001b[32m2023-07-23 16:58:01\u001b[0m |     \u001b[33mStart \u001b[0m \u001b[33mnbqa\u001b[0m 23-07-11T16_broader_search.ipynb\n",
      "\u001b[32m2023-07-23 16:58:01\u001b[0m |     \u001b[33mStart \u001b[0m \u001b[33mnbqa\u001b[0m 23-07-13T14_full_frame.ipynb\n",
      "\u001b[32m2023-07-23 16:58:01\u001b[0m |     \u001b[33mStart \u001b[0m \u001b[33mnbqa\u001b[0m 23-07-13T14_full_video.ipynb\n",
      "\u001b[32m2023-07-23 16:58:03\u001b[0m |     \u001b[32mFinish\u001b[0m \u001b[33mnbqa\u001b[0m 23-07-11T12_single_bubble.ipynb: All done! \\u2728 \\U0001f370 \\u...\n",
      "\u001b[32m2023-07-23 16:58:03\u001b[0m |     \u001b[33mStart \u001b[0m \u001b[33mnbqa\u001b[0m 23-07-11T12_single_bubble.ipynb\n",
      "\u001b[32m2023-07-23 16:58:03\u001b[0m |     \u001b[32mFinish\u001b[0m \u001b[33mnbqa\u001b[0m proposed_plot.ipynb: All done! \\u2728 \\U0001f370 \\u...\n",
      "\u001b[32m2023-07-23 16:58:03\u001b[0m |     \u001b[33mStart \u001b[0m \u001b[33mnbqa\u001b[0m proposed_plot.ipynb\n",
      "\u001b[32m2023-07-23 16:58:03\u001b[0m |     \u001b[32mFinish\u001b[0m \u001b[33mnbqa\u001b[0m 23-07-11T16_broader_search.ipynb: All done! \\u2728 \\U0001f370 \\u...\n",
      "\u001b[32m2023-07-23 16:58:03\u001b[0m |     \u001b[33mStart \u001b[0m \u001b[33mnbqa\u001b[0m 23-07-11T16_broader_search.ipynb\n",
      "\u001b[32m2023-07-23 16:58:03\u001b[0m |     \u001b[32mFinish\u001b[0m \u001b[33mnbqa\u001b[0m 23-07-13T14_full_frame.ipynb: All done! \\u2728 \\U0001f370 \\u...\n",
      "\u001b[32m2023-07-23 16:58:03\u001b[0m |     \u001b[33mStart \u001b[0m \u001b[33mnbqa\u001b[0m 23-07-13T14_full_frame.ipynb\n",
      "\u001b[32m2023-07-23 16:58:03\u001b[0m |     \u001b[32mFinish\u001b[0m \u001b[33mnbqa\u001b[0m 23-07-13T14_full_video.ipynb: All done! \\u2728 \\U0001f370 \\u...\n",
      "\u001b[32m2023-07-23 16:58:03\u001b[0m |     \u001b[33mStart \u001b[0m \u001b[33mnbqa\u001b[0m 23-07-13T14_full_video.ipynb\n",
      "\u001b[32m2023-07-23 16:58:04\u001b[0m |     \u001b[32mFinish\u001b[0m \u001b[33mnbqa\u001b[0m 23-07-11T15_multi_bubble.ipynb: All done! \\u2728 \\U0001f370 \\u...\n",
      "\u001b[32m2023-07-23 16:58:04\u001b[0m |     \u001b[33mStart \u001b[0m \u001b[33mnbqa\u001b[0m 23-07-11T15_multi_bubble.ipynb\n",
      "\u001b[32m2023-07-23 16:58:05\u001b[0m |     \u001b[32mFinish\u001b[0m \u001b[33mnbqa\u001b[0m 23-07-11T12_single_bubble.ipynb\n",
      "\u001b[32m2023-07-23 16:58:05\u001b[0m |     \u001b[33mStart \u001b[0m \u001b[35mnb-clean\u001b[0m 23-07-11T12_single_bubble.ipynb\n",
      "\u001b[32m2023-07-23 16:58:05\u001b[0m |     \u001b[32mFinish\u001b[0m \u001b[33mnbqa\u001b[0m 23-07-13T14_full_frame.ipynb\n",
      "\u001b[32m2023-07-23 16:58:05\u001b[0m |     \u001b[33mStart \u001b[0m \u001b[35mnb-clean\u001b[0m 23-07-13T14_full_frame.ipynb\n",
      "\u001b[32m2023-07-23 16:58:05\u001b[0m |     \u001b[32mFinish\u001b[0m \u001b[33mnbqa\u001b[0m proposed_plot.ipynb\n",
      "\u001b[32m2023-07-23 16:58:05\u001b[0m |     \u001b[33mStart \u001b[0m \u001b[35mnb-clean\u001b[0m proposed_plot.ipynb\n",
      "\u001b[32m2023-07-23 16:58:05\u001b[0m |     \u001b[32mFinish\u001b[0m \u001b[33mnbqa\u001b[0m 23-07-11T16_broader_search.ipynb\n",
      "\u001b[32m2023-07-23 16:58:05\u001b[0m |     \u001b[33mStart \u001b[0m \u001b[35mnb-clean\u001b[0m 23-07-11T16_broader_search.ipynb\n",
      "\u001b[32m2023-07-23 16:58:05\u001b[0m |     \u001b[32mFinish\u001b[0m \u001b[33mnbqa\u001b[0m 23-07-13T14_full_video.ipynb\n",
      "\u001b[32m2023-07-23 16:58:05\u001b[0m |     \u001b[33mStart \u001b[0m \u001b[35mnb-clean\u001b[0m 23-07-13T14_full_video.ipynb\n",
      "\u001b[32m2023-07-23 16:58:06\u001b[0m |     \u001b[32mFinish\u001b[0m \u001b[35mnb-clean\u001b[0m 23-07-11T12_single_bubble.ipynb\n",
      "\u001b[32m2023-07-23 16:58:06\u001b[0m |     \u001b[32mFinish\u001b[0m \u001b[35mnb-clean\u001b[0m 23-07-11T16_broader_search.ipynb\n",
      "\u001b[32m2023-07-23 16:58:06\u001b[0m |     \u001b[32mFinish\u001b[0m \u001b[35mnb-clean\u001b[0m 23-07-13T14_full_frame.ipynb\n",
      "\u001b[32m2023-07-23 16:58:06\u001b[0m |     \u001b[32mFinish\u001b[0m \u001b[35mnb-clean\u001b[0m 23-07-13T14_full_video.ipynb\n",
      "\u001b[32m2023-07-23 16:58:06\u001b[0m |     \u001b[32mFinish\u001b[0m \u001b[33mnbqa\u001b[0m 23-07-11T15_multi_bubble.ipynb\n",
      "\u001b[32m2023-07-23 16:58:06\u001b[0m |     \u001b[33mStart \u001b[0m \u001b[35mnb-clean\u001b[0m 23-07-11T15_multi_bubble.ipynb\n",
      "\u001b[32m2023-07-23 16:58:06\u001b[0m |     \u001b[32mFinish\u001b[0m \u001b[35mnb-clean\u001b[0m proposed_plot.ipynb\n",
      "\u001b[32m2023-07-23 16:58:07\u001b[0m |     \u001b[32mFinish\u001b[0m \u001b[35mnb-clean\u001b[0m 23-07-11T15_multi_bubble.ipynb\n",
      "\u001b[32m2023-07-23 16:58:07\u001b[0m | \u001b[32mFINISH\u001b[0m CLEAN\n",
      "\u001b[32m2023-07-23 16:58:07\u001b[0m | \u001b[33mSTART\u001b[0m EXPORT\n",
      "\u001b[32m2023-07-23 16:58:07\u001b[0m |     \u001b[33mStart \u001b[0m \u001b[36mjupyter-nbconvert\u001b[0m proposed_plot.ipynb\n",
      "\u001b[32m2023-07-23 16:58:07\u001b[0m |     \u001b[33mStart \u001b[0m \u001b[36mjupyter-nbconvert\u001b[0m 23-07-11T12_single_bubble.ipynb\n",
      "\u001b[32m2023-07-23 16:58:07\u001b[0m |     \u001b[33mStart \u001b[0m \u001b[36mjupyter-nbconvert\u001b[0m 23-07-11T15_multi_bubble.ipynb\n",
      "\u001b[32m2023-07-23 16:58:07\u001b[0m |     \u001b[33mStart \u001b[0m \u001b[36mjupyter-nbconvert\u001b[0m 23-07-11T16_broader_search.ipynb\n",
      "\u001b[32m2023-07-23 16:58:07\u001b[0m |     \u001b[33mStart \u001b[0m \u001b[36mjupyter-nbconvert\u001b[0m 23-07-13T14_full_frame.ipynb\n",
      "\u001b[32m2023-07-23 16:58:07\u001b[0m |     \u001b[33mStart \u001b[0m \u001b[36mjupyter-nbconvert\u001b[0m 23-07-13T14_full_video.ipynb\n",
      "\u001b[32m2023-07-23 16:58:11\u001b[0m |     \u001b[32mFinish\u001b[0m \u001b[36mjupyter-nbconvert\u001b[0m 23-07-11T15_multi_bubble.ipynb: [NbConvertApp] Converting note...\n",
      "\u001b[32m2023-07-23 16:58:11\u001b[0m |     \u001b[33mStart \u001b[0m \u001b[36mjupyter-nbconvert\u001b[0m 23-07-11T15_multi_bubble.ipynb\n",
      "\u001b[32m2023-07-23 16:58:11\u001b[0m |     \u001b[32mFinish\u001b[0m \u001b[36mjupyter-nbconvert\u001b[0m 23-07-11T16_broader_search.ipynb: [NbConvertApp] Converting note...\n",
      "\u001b[32m2023-07-23 16:58:11\u001b[0m |     \u001b[33mStart \u001b[0m \u001b[36mjupyter-nbconvert\u001b[0m 23-07-11T16_broader_search.ipynb\n",
      "\u001b[32m2023-07-23 16:58:11\u001b[0m |     \u001b[32mFinish\u001b[0m \u001b[36mjupyter-nbconvert\u001b[0m proposed_plot.ipynb: [NbConvertApp] Converting note...\n",
      "\u001b[32m2023-07-23 16:58:11\u001b[0m |     \u001b[33mStart \u001b[0m \u001b[36mjupyter-nbconvert\u001b[0m proposed_plot.ipynb\n",
      "\u001b[32m2023-07-23 16:58:11\u001b[0m |     \u001b[32mFinish\u001b[0m \u001b[36mjupyter-nbconvert\u001b[0m 23-07-11T12_single_bubble.ipynb: [NbConvertApp] Converting note...\n",
      "\u001b[32m2023-07-23 16:58:11\u001b[0m |     \u001b[33mStart \u001b[0m \u001b[36mjupyter-nbconvert\u001b[0m 23-07-11T12_single_bubble.ipynb\n",
      "\u001b[32m2023-07-23 16:58:11\u001b[0m |     \u001b[32mFinish\u001b[0m \u001b[36mjupyter-nbconvert\u001b[0m 23-07-13T14_full_frame.ipynb: [NbConvertApp] Converting note...\n",
      "\u001b[32m2023-07-23 16:58:11\u001b[0m |     \u001b[33mStart \u001b[0m \u001b[36mjupyter-nbconvert\u001b[0m 23-07-13T14_full_frame.ipynb\n",
      "\u001b[32m2023-07-23 16:58:11\u001b[0m |     \u001b[32mFinish\u001b[0m \u001b[36mjupyter-nbconvert\u001b[0m 23-07-13T14_full_video.ipynb: [NbConvertApp] Converting note...\n",
      "\u001b[32m2023-07-23 16:58:11\u001b[0m |     \u001b[33mStart \u001b[0m \u001b[36mjupyter-nbconvert\u001b[0m 23-07-13T14_full_video.ipynb\n",
      "\u001b[32m2023-07-23 16:58:15\u001b[0m |     \u001b[32mFinish\u001b[0m \u001b[36mjupyter-nbconvert\u001b[0m 23-07-11T12_single_bubble.ipynb: [NbConvertApp] Converting note...\n",
      "\u001b[32m2023-07-23 16:58:15\u001b[0m |     \u001b[32mFinish\u001b[0m \u001b[36mjupyter-nbconvert\u001b[0m proposed_plot.ipynb: [NbConvertApp] Converting note...\n",
      "\u001b[32m2023-07-23 16:58:15\u001b[0m |     \u001b[32mFinish\u001b[0m \u001b[36mjupyter-nbconvert\u001b[0m 23-07-11T16_broader_search.ipynb: [NbConvertApp] Converting note...\n",
      "\u001b[32m2023-07-23 16:58:15\u001b[0m |     \u001b[32mFinish\u001b[0m \u001b[36mjupyter-nbconvert\u001b[0m 23-07-11T15_multi_bubble.ipynb: [NbConvertApp] Converting note...\n",
      "\u001b[32m2023-07-23 16:58:15\u001b[0m |     \u001b[32mFinish\u001b[0m \u001b[36mjupyter-nbconvert\u001b[0m 23-07-13T14_full_frame.ipynb: [NbConvertApp] Converting note...\n",
      "\u001b[32m2023-07-23 16:58:16\u001b[0m |     \u001b[32mFinish\u001b[0m \u001b[36mjupyter-nbconvert\u001b[0m 23-07-13T14_full_video.ipynb: [NbConvertApp] Converting note...\n",
      "\u001b[32m2023-07-23 16:58:16\u001b[0m | \u001b[32mFINISH\u001b[0m EXPORT\n",
      "\u001b[32m2023-07-23 16:58:16\u001b[0m | \u001b[33mSTART\u001b[0m REPORT\n",
      "\u001b[32m2023-07-23 16:58:16\u001b[0m |     \u001b[33mStart \u001b[0m \u001b[34mpandoc\u001b[0m proposed_plot.md\n",
      "\u001b[32m2023-07-23 16:58:16\u001b[0m |     \u001b[33mStart \u001b[0m \u001b[34mpandoc\u001b[0m 23-07-11T12_single_bubble.md\n",
      "\u001b[32m2023-07-23 16:58:16\u001b[0m |     \u001b[33mStart \u001b[0m \u001b[34mpandoc\u001b[0m 23-07-11T15_multi_bubble.md\n",
      "\u001b[32m2023-07-23 16:58:16\u001b[0m |     \u001b[33mStart \u001b[0m \u001b[34mpandoc\u001b[0m 23-07-11T16_broader_search.md\n",
      "\u001b[32m2023-07-23 16:58:16\u001b[0m |     \u001b[33mStart \u001b[0m \u001b[34mpandoc\u001b[0m 23-07-13T14_full_frame.md\n",
      "\u001b[32m2023-07-23 16:58:16\u001b[0m |     \u001b[33mStart \u001b[0m \u001b[34mpandoc\u001b[0m 23-07-13T14_full_video.md\n",
      "\u001b[32m2023-07-23 16:58:16\u001b[0m |     \u001b[32mFinish\u001b[0m \u001b[34mpandoc\u001b[0m proposed_plot.md: zotero-live-citations f47be20...\n",
      "\u001b[32m2023-07-23 16:58:16\u001b[0m |     \u001b[32mFinish\u001b[0m \u001b[34mpandoc\u001b[0m 23-07-11T12_single_bubble.md: zotero-live-citations f47be20...\n",
      "\u001b[32m2023-07-23 16:58:16\u001b[0m |     \u001b[32mFinish\u001b[0m \u001b[34mpandoc\u001b[0m 23-07-11T15_multi_bubble.md: zotero-live-citations f47be20...\n",
      "\u001b[32m2023-07-23 16:58:16\u001b[0m |     \u001b[32mFinish\u001b[0m \u001b[34mpandoc\u001b[0m 23-07-13T14_full_frame.md: zotero-live-citations f47be20...\n",
      "\u001b[32m2023-07-23 16:58:16\u001b[0m |     \u001b[32mFinish\u001b[0m \u001b[34mpandoc\u001b[0m 23-07-13T14_full_video.md: zotero-live-citations f47be20...\n",
      "\u001b[32m2023-07-23 16:58:16\u001b[0m |     \u001b[32mFinish\u001b[0m \u001b[34mpandoc\u001b[0m 23-07-11T16_broader_search.md: zotero-live-citations f47be20...\n",
      "\u001b[32m2023-07-23 16:58:16\u001b[0m | \u001b[32mFINISH\u001b[0m REPORT\n",
      "\u001b[32m2023-07-23 16:58:16\u001b[0m | \u001b[33mSTART\u001b[0m COMMIT\n",
      "\u001b[32m2023-07-23 16:58:17\u001b[0m | \u001b[32mFINISH\u001b[0m COMMIT\n",
      "\u001b[32m2023-07-23 16:58:17\u001b[0m | \u001b[32mFINISH\u001b[0m pre_repro\n",
      "\n"
     ]
    }
   ],
   "source": [
    "logger.info((path / \"before.log\").read_text(encoding=\"utf-8\"))"
   ]
  },
  {
   "cell_type": "markdown",
   "metadata": {},
   "source": [
    "## After"
   ]
  },
  {
   "cell_type": "code",
   "execution_count": null,
   "metadata": {},
   "outputs": [
    {
     "name": "stdout",
     "output_type": "stream",
     "text": [
      "\u001b[32m2023-07-23 16:58:39\u001b[0m | \u001b[33mStart \u001b[0m \u001b[33mnbqa\u001b[0m proposed_plot.ipynb\n",
      "\u001b[32m2023-07-23 16:58:39\u001b[0m | \u001b[33mStart \u001b[0m \u001b[33mnbqa\u001b[0m 23-07-11T12_single_bubble.ipynb\n",
      "\u001b[32m2023-07-23 16:58:39\u001b[0m | \u001b[33mStart \u001b[0m \u001b[33mnbqa\u001b[0m 23-07-11T15_multi_bubble.ipynb\n",
      "\u001b[32m2023-07-23 16:58:39\u001b[0m | \u001b[33mStart \u001b[0m \u001b[33mnbqa\u001b[0m 23-07-11T16_broader_search.ipynb\n",
      "\u001b[32m2023-07-23 16:58:39\u001b[0m | \u001b[33mStart \u001b[0m \u001b[33mnbqa\u001b[0m 23-07-13T14_full_frame.ipynb\n",
      "\u001b[32m2023-07-23 16:58:39\u001b[0m | \u001b[33mStart \u001b[0m \u001b[33mnbqa\u001b[0m 23-07-13T14_full_video.ipynb\n",
      "\u001b[32m2023-07-23 16:58:41\u001b[0m | \u001b[32mFinish\u001b[0m \u001b[33mnbqa\u001b[0m proposed_plot.ipynb: All done! \\u2728 \\U0001f370 \\u...\n",
      "\u001b[32m2023-07-23 16:58:41\u001b[0m | \u001b[33mStart \u001b[0m \u001b[33mnbqa\u001b[0m proposed_plot.ipynb\n",
      "\u001b[32m2023-07-23 16:58:41\u001b[0m | \u001b[32mFinish\u001b[0m \u001b[33mnbqa\u001b[0m 23-07-11T15_multi_bubble.ipynb: All done! \\u2728 \\U0001f370 \\u...\n",
      "\u001b[32m2023-07-23 16:58:41\u001b[0m | \u001b[33mStart \u001b[0m \u001b[33mnbqa\u001b[0m 23-07-11T15_multi_bubble.ipynb\n",
      "\u001b[32m2023-07-23 16:58:41\u001b[0m | \u001b[32mFinish\u001b[0m \u001b[33mnbqa\u001b[0m 23-07-13T14_full_frame.ipynb: All done! \\u2728 \\U0001f370 \\u...\n",
      "\u001b[32m2023-07-23 16:58:41\u001b[0m | \u001b[33mStart \u001b[0m \u001b[33mnbqa\u001b[0m 23-07-13T14_full_frame.ipynb\n",
      "\u001b[32m2023-07-23 16:58:41\u001b[0m | \u001b[32mFinish\u001b[0m \u001b[33mnbqa\u001b[0m 23-07-11T16_broader_search.ipynb: All done! \\u2728 \\U0001f370 \\u...\n",
      "\u001b[32m2023-07-23 16:58:41\u001b[0m | \u001b[33mStart \u001b[0m \u001b[33mnbqa\u001b[0m 23-07-11T16_broader_search.ipynb\n",
      "\u001b[32m2023-07-23 16:58:42\u001b[0m | \u001b[32mFinish\u001b[0m \u001b[33mnbqa\u001b[0m 23-07-11T12_single_bubble.ipynb: All done! \\u2728 \\U0001f370 \\u...\n",
      "\u001b[32m2023-07-23 16:58:42\u001b[0m | \u001b[33mStart \u001b[0m \u001b[33mnbqa\u001b[0m 23-07-11T12_single_bubble.ipynb\n",
      "\u001b[32m2023-07-23 16:58:42\u001b[0m | \u001b[32mFinish\u001b[0m \u001b[33mnbqa\u001b[0m 23-07-13T14_full_video.ipynb: All done! \\u2728 \\U0001f370 \\u...\n",
      "\u001b[32m2023-07-23 16:58:42\u001b[0m | \u001b[33mStart \u001b[0m \u001b[33mnbqa\u001b[0m 23-07-13T14_full_video.ipynb\n",
      "\u001b[32m2023-07-23 16:58:43\u001b[0m | \u001b[32mFinish\u001b[0m \u001b[33mnbqa\u001b[0m proposed_plot.ipynb\n",
      "\u001b[32m2023-07-23 16:58:43\u001b[0m | \u001b[33mStart \u001b[0m \u001b[35mnb-clean\u001b[0m proposed_plot.ipynb\n",
      "\u001b[32m2023-07-23 16:58:43\u001b[0m | \u001b[32mFinish\u001b[0m \u001b[33mnbqa\u001b[0m 23-07-13T14_full_frame.ipynb\n",
      "\u001b[32m2023-07-23 16:58:43\u001b[0m | \u001b[33mStart \u001b[0m \u001b[35mnb-clean\u001b[0m 23-07-13T14_full_frame.ipynb\n",
      "\u001b[32m2023-07-23 16:58:43\u001b[0m | \u001b[32mFinish\u001b[0m \u001b[33mnbqa\u001b[0m 23-07-11T15_multi_bubble.ipynb\n",
      "\u001b[32m2023-07-23 16:58:43\u001b[0m | \u001b[33mStart \u001b[0m \u001b[35mnb-clean\u001b[0m 23-07-11T15_multi_bubble.ipynb\n",
      "\u001b[32m2023-07-23 16:58:43\u001b[0m | \u001b[32mFinish\u001b[0m \u001b[33mnbqa\u001b[0m 23-07-11T16_broader_search.ipynb\n",
      "\u001b[32m2023-07-23 16:58:43\u001b[0m | \u001b[33mStart \u001b[0m \u001b[35mnb-clean\u001b[0m 23-07-11T16_broader_search.ipynb\n",
      "\u001b[32m2023-07-23 16:58:44\u001b[0m | \u001b[32mFinish\u001b[0m \u001b[33mnbqa\u001b[0m 23-07-11T12_single_bubble.ipynb\n",
      "\u001b[32m2023-07-23 16:58:44\u001b[0m | \u001b[33mStart \u001b[0m \u001b[35mnb-clean\u001b[0m 23-07-11T12_single_bubble.ipynb\n",
      "\u001b[32m2023-07-23 16:58:44\u001b[0m | \u001b[32mFinish\u001b[0m \u001b[35mnb-clean\u001b[0m proposed_plot.ipynb\n",
      "\u001b[32m2023-07-23 16:58:44\u001b[0m | \u001b[33mStart \u001b[0m \u001b[36mjupyter-nbconvert\u001b[0m md\n",
      "\u001b[32m2023-07-23 16:58:44\u001b[0m | \u001b[32mFinish\u001b[0m \u001b[35mnb-clean\u001b[0m 23-07-13T14_full_frame.ipynb\n",
      "\u001b[32m2023-07-23 16:58:44\u001b[0m | \u001b[33mStart \u001b[0m \u001b[36mjupyter-nbconvert\u001b[0m md\n",
      "\u001b[32m2023-07-23 16:58:44\u001b[0m | \u001b[32mFinish\u001b[0m \u001b[35mnb-clean\u001b[0m 23-07-11T15_multi_bubble.ipynb\n",
      "\u001b[32m2023-07-23 16:58:44\u001b[0m | \u001b[33mStart \u001b[0m \u001b[36mjupyter-nbconvert\u001b[0m md\n",
      "\u001b[32m2023-07-23 16:58:44\u001b[0m | \u001b[32mFinish\u001b[0m \u001b[33mnbqa\u001b[0m 23-07-13T14_full_video.ipynb\n",
      "\u001b[32m2023-07-23 16:58:44\u001b[0m | \u001b[33mStart \u001b[0m \u001b[35mnb-clean\u001b[0m 23-07-13T14_full_video.ipynb\n",
      "\u001b[32m2023-07-23 16:58:44\u001b[0m | \u001b[32mFinish\u001b[0m \u001b[35mnb-clean\u001b[0m 23-07-11T16_broader_search.ipynb\n",
      "\u001b[32m2023-07-23 16:58:44\u001b[0m | \u001b[33mStart \u001b[0m \u001b[36mjupyter-nbconvert\u001b[0m md\n",
      "\u001b[32m2023-07-23 16:58:45\u001b[0m | \u001b[32mFinish\u001b[0m \u001b[35mnb-clean\u001b[0m 23-07-11T12_single_bubble.ipynb\n",
      "\u001b[32m2023-07-23 16:58:45\u001b[0m | \u001b[33mStart \u001b[0m \u001b[36mjupyter-nbconvert\u001b[0m md\n",
      "\u001b[32m2023-07-23 16:58:45\u001b[0m | \u001b[32mFinish\u001b[0m \u001b[35mnb-clean\u001b[0m 23-07-13T14_full_video.ipynb\n",
      "\u001b[32m2023-07-23 16:58:45\u001b[0m | \u001b[33mStart \u001b[0m \u001b[36mjupyter-nbconvert\u001b[0m md\n",
      "\u001b[32m2023-07-23 16:58:48\u001b[0m | \u001b[32mFinish\u001b[0m \u001b[36mjupyter-nbconvert\u001b[0m md: [NbConvertApp] Converting note...\n",
      "\u001b[32m2023-07-23 16:58:48\u001b[0m | \u001b[33mStart \u001b[0m \u001b[36mjupyter-nbconvert\u001b[0m boilercv\n",
      "\u001b[32m2023-07-23 16:58:48\u001b[0m | \u001b[32mFinish\u001b[0m \u001b[36mjupyter-nbconvert\u001b[0m md: [NbConvertApp] Converting note...\n",
      "\u001b[32m2023-07-23 16:58:48\u001b[0m | \u001b[33mStart \u001b[0m \u001b[36mjupyter-nbconvert\u001b[0m boilercv\n",
      "\u001b[32m2023-07-23 16:58:48\u001b[0m | \u001b[32mFinish\u001b[0m \u001b[36mjupyter-nbconvert\u001b[0m md: [NbConvertApp] Converting note...\n",
      "\u001b[32m2023-07-23 16:58:48\u001b[0m | \u001b[33mStart \u001b[0m \u001b[36mjupyter-nbconvert\u001b[0m boilercv\n",
      "\u001b[32m2023-07-23 16:58:49\u001b[0m | \u001b[32mFinish\u001b[0m \u001b[36mjupyter-nbconvert\u001b[0m md: [NbConvertApp] Converting note...\n",
      "\u001b[32m2023-07-23 16:58:49\u001b[0m | \u001b[33mStart \u001b[0m \u001b[36mjupyter-nbconvert\u001b[0m boilercv\n",
      "\u001b[32m2023-07-23 16:58:49\u001b[0m | \u001b[32mFinish\u001b[0m \u001b[36mjupyter-nbconvert\u001b[0m md: [NbConvertApp] Converting note...\n",
      "\u001b[32m2023-07-23 16:58:49\u001b[0m | \u001b[33mStart \u001b[0m \u001b[36mjupyter-nbconvert\u001b[0m boilercv\n",
      "\u001b[32m2023-07-23 16:58:50\u001b[0m | \u001b[32mFinish\u001b[0m \u001b[36mjupyter-nbconvert\u001b[0m md: [NbConvertApp] Converting note...\n",
      "\u001b[32m2023-07-23 16:58:50\u001b[0m | \u001b[33mStart \u001b[0m \u001b[36mjupyter-nbconvert\u001b[0m boilercv\n",
      "\u001b[32m2023-07-23 16:58:53\u001b[0m | \u001b[32mFinish\u001b[0m \u001b[36mjupyter-nbconvert\u001b[0m boilercv: [NbConvertApp] Converting note...\n",
      "\u001b[32m2023-07-23 16:58:53\u001b[0m | \u001b[33mStart \u001b[0m \u001b[34mpandoc\u001b[0m 23-07-11T16_broader_search.md\n",
      "\u001b[32m2023-07-23 16:58:53\u001b[0m | \u001b[32mFinish\u001b[0m \u001b[36mjupyter-nbconvert\u001b[0m boilercv: [NbConvertApp] Converting note...\n",
      "\u001b[32m2023-07-23 16:58:53\u001b[0m | \u001b[33mStart \u001b[0m \u001b[34mpandoc\u001b[0m 23-07-11T15_multi_bubble.md\n",
      "\u001b[32m2023-07-23 16:58:53\u001b[0m | \u001b[32mFinish\u001b[0m \u001b[36mjupyter-nbconvert\u001b[0m boilercv: [NbConvertApp] Converting note...\n",
      "\u001b[32m2023-07-23 16:58:53\u001b[0m | \u001b[33mStart \u001b[0m \u001b[34mpandoc\u001b[0m proposed_plot.md\n",
      "\u001b[32m2023-07-23 16:58:53\u001b[0m | \u001b[32mFinish\u001b[0m \u001b[34mpandoc\u001b[0m proposed_plot.md: zotero-live-citations f47be20...\n",
      "\u001b[32m2023-07-23 16:58:53\u001b[0m | \u001b[32mFinish\u001b[0m \u001b[34mpandoc\u001b[0m 23-07-11T16_broader_search.md: zotero-live-citations f47be20...\n",
      "\u001b[32m2023-07-23 16:58:53\u001b[0m | \u001b[32mFinish\u001b[0m \u001b[36mjupyter-nbconvert\u001b[0m boilercv: [NbConvertApp] Converting note...\n",
      "\u001b[32m2023-07-23 16:58:53\u001b[0m | \u001b[33mStart \u001b[0m \u001b[34mpandoc\u001b[0m 23-07-13T14_full_frame.md\n",
      "\u001b[32m2023-07-23 16:58:53\u001b[0m | \u001b[32mFinish\u001b[0m \u001b[34mpandoc\u001b[0m 23-07-11T15_multi_bubble.md: zotero-live-citations f47be20...\n",
      "\u001b[32m2023-07-23 16:58:54\u001b[0m | \u001b[32mFinish\u001b[0m \u001b[36mjupyter-nbconvert\u001b[0m boilercv: [NbConvertApp] Converting note...\n",
      "\u001b[32m2023-07-23 16:58:54\u001b[0m | \u001b[33mStart \u001b[0m \u001b[34mpandoc\u001b[0m 23-07-11T12_single_bubble.md\n",
      "\u001b[32m2023-07-23 16:58:54\u001b[0m | \u001b[32mFinish\u001b[0m \u001b[34mpandoc\u001b[0m 23-07-13T14_full_frame.md: zotero-live-citations f47be20...\n",
      "\u001b[32m2023-07-23 16:58:54\u001b[0m | \u001b[32mFinish\u001b[0m \u001b[34mpandoc\u001b[0m 23-07-11T12_single_bubble.md: zotero-live-citations f47be20...\n",
      "\u001b[32m2023-07-23 16:58:55\u001b[0m | \u001b[32mFinish\u001b[0m \u001b[36mjupyter-nbconvert\u001b[0m boilercv: [NbConvertApp] Converting note...\n",
      "\u001b[32m2023-07-23 16:58:55\u001b[0m | \u001b[33mStart \u001b[0m \u001b[34mpandoc\u001b[0m 23-07-13T14_full_video.md\n",
      "\u001b[32m2023-07-23 16:58:55\u001b[0m | \u001b[32mFinish\u001b[0m \u001b[34mpandoc\u001b[0m 23-07-13T14_full_video.md: zotero-live-citations f47be20...\n",
      "\u001b[32m2023-07-23 16:58:56\u001b[0m | \u001b[32mFINISH\u001b[0m pre_repro\n",
      "\n"
     ]
    }
   ],
   "source": [
    "logger.info((path / \"after.log\").read_text(encoding=\"utf-8\"))"
   ]
  }
 ],
 "metadata": {
  "kernelspec": {
   "display_name": ".venv",
   "language": "python",
   "name": "python3"
  },
  "language_info": {
   "codemirror_mode": {
    "name": "ipython",
    "version": 3
   },
   "file_extension": ".py",
   "mimetype": "text/x-python",
   "name": "python",
   "nbconvert_exporter": "python",
   "pygments_lexer": "ipython3"
  }
 },
 "nbformat": 4,
 "nbformat_minor": 2
}
